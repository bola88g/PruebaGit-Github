{
 "cells": [
  {
   "cell_type": "code",
   "execution_count": 18,
   "metadata": {},
   "outputs": [
    {
     "name": "stdout",
     "output_type": "stream",
     "text": [
      "Twinkle, twinkle, little star,\n",
      "        How I wonder what you are!\n",
      "        Up above the world so high,\n",
      "                Like a diamond in the sky.\n",
      "Twinkle, twinkle, little star,\n",
      "        How I wonder what you are\n"
     ]
    }
   ],
   "source": [
    "linea1 = \"Twinkle, twinkle, little star,\"\n",
    "linea2 = \"        How I wonder what you are!\" \n",
    "linea3 = \"        Up above the world so high,\"\n",
    "linea4 = \"                Like a diamond in the sky.\"\n",
    "linea5 = \"Twinkle, twinkle, little star,\"\n",
    "linea6 = \"        How I wonder what you are\"\n",
    "print(linea1)\n",
    "print(linea2)\n",
    "print(linea3)\n",
    "print(linea4)\n",
    "print(linea5)\n",
    "print(linea6)"
   ]
  },
  {
   "cell_type": "code",
   "execution_count": 21,
   "metadata": {},
   "outputs": [
    {
     "name": "stdout",
     "output_type": "stream",
     "text": [
      "Twinkle, twinkle, little star,\n",
      "\tHow I wonder what you are!\n",
      "\t\tUp above the world so high,\n",
      "\t\tLike a diamond in the sky.\n",
      "\tTwinkle, twinkle, little star,\n",
      "How I wonder what you are\n"
     ]
    }
   ],
   "source": [
    "print(\"Twinkle, twinkle, little star,\\n\\tHow I wonder what you are!\\n\\t\\tUp above the world so high,\\n\\t\\tLike a diamond in the sky.\\n\\tTwinkle, twinkle, little star,\\nHow I wonder what you are\")"
   ]
  },
  {
   "cell_type": "code",
   "execution_count": null,
   "metadata": {},
   "outputs": [],
   "source": []
  }
 ],
 "metadata": {
  "kernelspec": {
   "display_name": "Python 3",
   "language": "python",
   "name": "python3"
  },
  "language_info": {
   "codemirror_mode": {
    "name": "ipython",
    "version": 3
   },
   "file_extension": ".py",
   "mimetype": "text/x-python",
   "name": "python",
   "nbconvert_exporter": "python",
   "pygments_lexer": "ipython3",
   "version": "3.7.3"
  }
 },
 "nbformat": 4,
 "nbformat_minor": 4
}
